{
 "cells": [
  {
   "cell_type": "markdown",
   "id": "46ad2da3-ae0d-46e7-b912-772fa9c545d6",
   "metadata": {},
   "source": [
    "# Week 9 Shit"
   ]
  },
  {
   "cell_type": "markdown",
   "id": "d4a47a2c-58fc-4728-9949-09add8d494da",
   "metadata": {},
   "source": [
    "This is our class exercises"
   ]
  },
  {
   "cell_type": "markdown",
   "id": "dc1d425d-759e-4bed-8856-9c0e05b1abd8",
   "metadata": {},
   "source": [
    "### Exercise  #1. Note doubler. Double each note at the octave"
   ]
  },
  {
   "cell_type": "code",
   "execution_count": 2,
   "id": "f4ada1bf-4f5d-4a12-9ebc-aab313aa3e0d",
   "metadata": {},
   "outputs": [],
   "source": [
    "def double_note(midi_note):\n",
    "    return midi_note + 12"
   ]
  },
  {
   "cell_type": "code",
   "execution_count": 3,
   "id": "c96f7fb7-b76a-4a24-9c9d-09a8253c33d6",
   "metadata": {},
   "outputs": [
    {
     "data": {
      "text/plain": [
       "72"
      ]
     },
     "execution_count": 3,
     "metadata": {},
     "output_type": "execute_result"
    }
   ],
   "source": [
    "double_note(60)"
   ]
  },
  {
   "cell_type": "code",
   "execution_count": 4,
   "id": "174047b6-547c-49ba-9f32-a7ea27d6bd20",
   "metadata": {},
   "outputs": [
    {
     "name": "stdout",
     "output_type": "stream",
     "text": [
      "72\n"
     ]
    }
   ],
   "source": [
    "print(double_note(60)) # old way to call"
   ]
  },
  {
   "cell_type": "code",
   "execution_count": 5,
   "id": "e4e48c9f-35da-4270-bdea-fcdcc35e1723",
   "metadata": {},
   "outputs": [
    {
     "data": {
      "text/plain": [
       "81"
      ]
     },
     "execution_count": 5,
     "metadata": {},
     "output_type": "execute_result"
    }
   ],
   "source": [
    "double_note(69)"
   ]
  },
  {
   "cell_type": "code",
   "execution_count": 13,
   "id": "04e2eb7e-dd59-4414-8c95-a25602ad7bfd",
   "metadata": {
    "scrolled": true
   },
   "outputs": [
    {
     "name": "stdout",
     "output_type": "stream",
     "text": [
      "13\n",
      "14\n",
      "15\n",
      "16\n",
      "17\n",
      "18\n",
      "19\n",
      "20\n",
      "21\n",
      "22\n",
      "23\n",
      "24\n",
      "25\n",
      "26\n",
      "27\n",
      "28\n",
      "29\n",
      "30\n",
      "31\n",
      "32\n",
      "33\n",
      "34\n",
      "35\n",
      "36\n",
      "37\n",
      "38\n",
      "39\n",
      "40\n",
      "41\n",
      "42\n",
      "43\n",
      "44\n",
      "45\n",
      "46\n",
      "47\n",
      "48\n",
      "49\n",
      "50\n",
      "51\n",
      "52\n",
      "53\n",
      "54\n",
      "55\n",
      "56\n",
      "57\n",
      "58\n",
      "59\n",
      "60\n",
      "61\n",
      "62\n",
      "63\n",
      "64\n",
      "65\n",
      "66\n",
      "67\n",
      "68\n",
      "69\n",
      "70\n",
      "71\n",
      "72\n",
      "73\n",
      "74\n",
      "75\n",
      "76\n",
      "77\n",
      "78\n",
      "79\n",
      "80\n",
      "81\n",
      "82\n",
      "83\n",
      "84\n",
      "85\n",
      "86\n",
      "87\n",
      "88\n",
      "89\n",
      "90\n",
      "91\n",
      "92\n",
      "93\n",
      "94\n",
      "95\n",
      "96\n",
      "97\n",
      "98\n",
      "99\n",
      "100\n",
      "101\n",
      "102\n",
      "103\n",
      "104\n",
      "105\n",
      "106\n",
      "107\n",
      "108\n",
      "109\n",
      "110\n",
      "111\n"
     ]
    }
   ],
   "source": [
    "for x in range(1, 100):\n",
    "    print(double_note(x))"
   ]
  },
  {
   "cell_type": "markdown",
   "id": "f59475c1-252b-4521-b96e-c8b5c57b058a",
   "metadata": {},
   "source": [
    "### Exercise #2 Note velocity check"
   ]
  },
  {
   "cell_type": "code",
   "execution_count": null,
   "id": "ac0dc7a8-0972-4d89-b69f-e9671ab4fb8c",
   "metadata": {},
   "outputs": [],
   "source": []
  },
  {
   "cell_type": "markdown",
   "id": "e17bb61f-7fc7-4596-bd97-1118030fe554",
   "metadata": {},
   "source": [
    "### Exercise 5: Dynamic expression based on velocity"
   ]
  },
  {
   "cell_type": "code",
   "execution_count": 5,
   "id": "32e70d06-7245-40f9-8b80-f337facfffc7",
   "metadata": {},
   "outputs": [],
   "source": [
    "def dynamic_expression(velocity):\n",
    "    if 0 <= velocity:\n",
    "        if velocity == 0:\n",
    "            return \"sciarrino\"\n",
    "        elif 1 <= velocity <= 20:\n",
    "            return \"pp\"\n",
    "        elif 21 <= velocity <= 50:\n",
    "            return \"p\"\n",
    "        elif 51 <= velocity <= 80:\n",
    "            return \"mp\"\n",
    "        elif 81 <= velocity <= 110:\n",
    "            return \"mf\"\n",
    "        elif 111 <= velocity <= 120:\n",
    "            return \"f\"\n",
    "        elif 121 <= velocity <= 127:\n",
    "            return \"ff\"\n",
    "        else: return \"niblock\"\n",
    "    else: return \"are you ok?\""
   ]
  },
  {
   "cell_type": "code",
   "execution_count": null,
   "id": "ff0da035-1c07-4093-ac6f-dcc5f84619bc",
   "metadata": {},
   "outputs": [],
   "source": []
  }
 ],
 "metadata": {
  "kernelspec": {
   "display_name": "Python 3 (ipykernel)",
   "language": "python",
   "name": "python3"
  },
  "language_info": {
   "codemirror_mode": {
    "name": "ipython",
    "version": 3
   },
   "file_extension": ".py",
   "mimetype": "text/x-python",
   "name": "python",
   "nbconvert_exporter": "python",
   "pygments_lexer": "ipython3",
   "version": "3.12.0"
  }
 },
 "nbformat": 4,
 "nbformat_minor": 5
}
